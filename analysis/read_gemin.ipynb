{
 "cells": [
  {
   "cell_type": "code",
   "execution_count": 1,
   "id": "b30b4878-f89d-4cd1-835f-a53cdf1c41f8",
   "metadata": {
    "tags": []
   },
   "outputs": [],
   "source": [
    "# Define variables to store the data\n",
    "header_data = {}\n",
    "values_data = {}\n",
    "float_dict = {'dt','cut','amp(0.01)','tor','etaohm','amie','rneu','beta','vcur'}\n",
    "# Open the 'gem.in' file for reading\n",
    "with open('gem.in', 'r') as file:\n",
    "    current_section = None  # Variable to keep track of the current section\n",
    "\n",
    "    # Iterate through each line in the file\n",
    "    for line in file:\n",
    "        line = line.strip()  # Remove leading/trailing whitespace\n",
    "\n",
    "        # Check if the line is empty\n",
    "        if not line:\n",
    "            continue\n",
    "\n",
    "        # Check if the line starts with a single quote (') to indicate a new section\n",
    "        if line.startswith(\"'\"):\n",
    "            current_section = line.strip(\"'\")  # Set the current section name\n",
    "            continue\n",
    "        # Split the line into words using whitespace as a delimiter\n",
    "        words = line.split()\n",
    "        current_section_lst = current_section.split()\n",
    "        # Check if there are words on the line\n",
    "        data = []\n",
    "        for word_idx,word in enumerate(words):\n",
    "            if current_section_lst[word_idx] not in float_dict:\n",
    "                data.append(int(word))               \n",
    "            else:\n",
    "                data.append(float(word))\n",
    "        if current_section:\n",
    "            values_data[current_section] = data\n",
    "        else:\n",
    "            header_data = data"
   ]
  },
  {
   "cell_type": "code",
   "execution_count": 2,
   "id": "592be2b6-9f29-48d4-a9c4-805c990c7dc4",
   "metadata": {
    "tags": []
   },
   "outputs": [
    {
     "name": "stdout",
     "output_type": "stream",
     "text": [
      "{'imx': 449, 'jmx': 433, 'kmx': 64, 'mmx': 100000, 'nmx': 100000, 'nsmx': 4, 'ntube': 4, 'dt': 50.0, 'nm': 10, 'nsm': 1, 'iez': 0, 'iput': 1, 'iget': 0, 'ision': 1, 'peritr': 0, 'nplot': 100, 'xnplt': 1, 'cut': 1.0, 'amp(0.01)': 1e-05, 'tor': 1.0, 'etaohm': 1e-06, 'ifluid': 1, 'amie': 1837.0, 'rneu': 1e-07, 'beta': 0.00124, 'nonlin': 0, 'nonline': 0, 'vcur': 15.0, 'ion': 10}\n"
     ]
    }
   ],
   "source": [
    "result_dict = {}\n",
    "for section, data in values_data.items():\n",
    "    section_array = section.split()\n",
    "    section_dict = {string:value for string, value in zip(section_array,data)}\n",
    "    result_dict.update(section_dict)\n",
    "print(result_dict)"
   ]
  },
  {
   "cell_type": "code",
   "execution_count": null,
   "id": "da673746-aceb-40f0-b0bd-067ee6228bbc",
   "metadata": {},
   "outputs": [],
   "source": []
  }
 ],
 "metadata": {
  "kernelspec": {
   "display_name": "NERSC Python",
   "language": "python",
   "name": "python3"
  },
  "language_info": {
   "codemirror_mode": {
    "name": "ipython",
    "version": 3
   },
   "file_extension": ".py",
   "mimetype": "text/x-python",
   "name": "python",
   "nbconvert_exporter": "python",
   "pygments_lexer": "ipython3",
   "version": "3.9.7"
  }
 },
 "nbformat": 4,
 "nbformat_minor": 5
}
